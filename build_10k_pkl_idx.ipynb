{
 "cells": [
  {
   "cell_type": "code",
   "execution_count": 2,
   "id": "3a85078f",
   "metadata": {},
   "outputs": [],
   "source": [
    "from langchain.embeddings.openai import OpenAIEmbeddings\n",
    "from langchain.text_splitter import CharacterTextSplitter\n",
    "from langchain.vectorstores.faiss import FAISS\n",
    "from langchain.prompts import PromptTemplate\n",
    "from langchain.chains import LLMChain, HypotheticalDocumentEmbedder\n",
    "from langchain.llms import OpenAI\n",
    "\n",
    "from dataclasses import dataclass\n",
    "import os"
   ]
  },
  {
   "cell_type": "code",
   "execution_count": 3,
   "id": "5ed94256",
   "metadata": {},
   "outputs": [
    {
     "data": {
      "text/plain": [
       "True"
      ]
     },
     "execution_count": 3,
     "metadata": {},
     "output_type": "execute_result"
    }
   ],
   "source": [
    "from dotenv import load_dotenv\n",
    "\n",
    "load_dotenv()  # take environment variables from .env."
   ]
  },
  {
   "cell_type": "code",
   "execution_count": 4,
   "id": "1baf2458",
   "metadata": {},
   "outputs": [],
   "source": [
    "from langchain.text_splitter import RecursiveCharacterTextSplitter\n",
    "\n",
    "recursive_text_splitter = RecursiveCharacterTextSplitter(\n",
    "    # Set a really small chunk size, just to show.\n",
    "    chunk_size = 600,\n",
    "    chunk_overlap  = 30,\n",
    "    length_function = len,\n",
    ")"
   ]
  },
  {
   "cell_type": "code",
   "execution_count": 5,
   "id": "4d69e07d",
   "metadata": {},
   "outputs": [],
   "source": [
    "SEC_API_KEY = os.environ[\"SEC_API_KEY\"]"
   ]
  },
  {
   "cell_type": "code",
   "execution_count": 6,
   "id": "8655b8f2",
   "metadata": {},
   "outputs": [],
   "source": [
    "%load_ext autoreload\n",
    "%autoreload 2"
   ]
  },
  {
   "cell_type": "code",
   "execution_count": 7,
   "id": "0cce4320",
   "metadata": {},
   "outputs": [],
   "source": [
    "from sec_api import ExtractorApi, QueryApi"
   ]
  },
  {
   "cell_type": "code",
   "execution_count": 8,
   "id": "6c90593e",
   "metadata": {},
   "outputs": [],
   "source": [
    "from enum import Enum\n",
    "\n",
    "class FilingType(Enum):\n",
    "    T_10K = 1\n",
    "    T_10Q = 2"
   ]
  },
  {
   "cell_type": "code",
   "execution_count": 9,
   "id": "ba2d0da8",
   "metadata": {},
   "outputs": [],
   "source": [
    "query_api = QueryApi(SEC_API_KEY)\n",
    "extractor_api = ExtractorApi(SEC_API_KEY)"
   ]
  },
  {
   "cell_type": "code",
   "execution_count": 10,
   "id": "3f319fa8",
   "metadata": {},
   "outputs": [],
   "source": [
    "@dataclass\n",
    "class SECFiling:\n",
    "    \"\"\"Represents metadata about an SEC filing for extraction.\"\"\"\n",
    "    url: str\n",
    "    filing_type: FilingType\n",
    "    ticker: str"
   ]
  },
  {
   "cell_type": "code",
   "execution_count": 11,
   "id": "9019165e",
   "metadata": {},
   "outputs": [],
   "source": [
    "latest_10x = {\n",
    "    \"GOOG\": SECFiling(\n",
    "        url=\"https://www.sec.gov/ix?doc=/Archives/edgar/data/1652044/000165204423000016/goog-20221231.htm\",\n",
    "        filing_type=FilingType.T_10K,\n",
    "        ticker=\"GOOG\"),\n",
    "    \"MSFT\": SECFiling(\n",
    "        url=\"https://www.sec.gov/ix?doc=/Archives/edgar/data/789019/000156459023000733/msft-10q_20221231.htm\",\n",
    "        filing_type=FilingType.T_10Q,\n",
    "        ticker=\"MSFT\"),\n",
    "    \"AMZN\": SECFiling(\n",
    "        url=\"https://www.sec.gov/ix?doc=/Archives/edgar/data/1018724/000101872423000004/amzn-20221231.htm\",\n",
    "        filing_type=FilingType.T_10K,\n",
    "        ticker=\"AMZN\"),\n",
    "    \"AAPL\": SECFiling(\n",
    "        url=\"https://www.sec.gov/ix?doc=/Archives/edgar/data/320193/000032019323000006/aapl-20221231.htm\",\n",
    "        filing_type=FilingType.T_10Q,\n",
    "        ticker=\"AAPL\"),\n",
    "    \"NVDA\": SECFiling(\n",
    "        url=\"https://www.sec.gov/ix?doc=/Archives/edgar/data/1045810/000104581022000166/nvda-20221030.htm\",\n",
    "        filing_type=FilingType.T_10Q,\n",
    "        ticker=\"NVDA\"),\n",
    "    \"META\": SECFiling(\n",
    "        url=\"https://www.sec.gov/ix?doc=/Archives/edgar/data/1326801/000132680123000013/meta-20221231.htm\",\n",
    "        filing_type=FilingType.T_10K,\n",
    "        ticker=\"META\"),\n",
    "}"
   ]
  },
  {
   "cell_type": "markdown",
   "id": "e4ce3fe6",
   "metadata": {},
   "source": [
    "# [Reference](https://pypi.org/project/sec-api/#10-k10-q8-k-section-extractor-api)\n",
    "\n",
    "https://pypi.org/project/sec-api/#10-k10-q8-k-section-extractor-api "
   ]
  },
  {
   "cell_type": "code",
   "execution_count": 12,
   "id": "5792db6f",
   "metadata": {},
   "outputs": [],
   "source": [
    "TO_EXTRACT = {\n",
    "    FilingType.T_10K: [\n",
    "        \"7\", \n",
    "    ],\n",
    "    FilingType.T_10Q: [\n",
    "        \"part1item2\", # Management’s Discussion and Analysis of Financial Condition and Results of Operations\n",
    "    ],\n",
    "}"
   ]
  },
  {
   "cell_type": "code",
   "execution_count": 13,
   "id": "4cbe48e6",
   "metadata": {},
   "outputs": [],
   "source": [
    "# for f in filings[\"filings\"]:\n",
    "#     print(f[\"formType\"], f[\"filedAt\"], f[\"linkToHtml\"])\n",
    "#     google_10k_filings[f[\"filedAt\"][:4]] = f[\"linkToHtml\"]\n",
    "# google_10k_filings"
   ]
  },
  {
   "cell_type": "code",
   "execution_count": 14,
   "id": "dcd8c846",
   "metadata": {},
   "outputs": [],
   "source": [
    "import pickle\n",
    "import os"
   ]
  },
  {
   "cell_type": "code",
   "execution_count": 15,
   "id": "ed33bcfe",
   "metadata": {},
   "outputs": [
    {
     "data": {
      "text/plain": [
       "PosixPath('/Users/timothywee/projects/10k/10kai_backend_railway')"
      ]
     },
     "execution_count": 15,
     "metadata": {},
     "output_type": "execute_result"
    }
   ],
   "source": [
    "from pathlib import Path\n",
    "parent_pth = Path.cwd()\n",
    "parent_pth"
   ]
  },
  {
   "cell_type": "code",
   "execution_count": 16,
   "id": "40e615f5",
   "metadata": {},
   "outputs": [],
   "source": [
    "import re\n",
    "\n",
    "def clean_text(text):\n",
    "    text = re.sub(r\"(\\w+)-\\n(\\w+)\", r\"\\1\\2\", text)\n",
    "    text = re.sub(r\"&#(\\d+);\", \"\", text)\n",
    "    # Fix newlines in the middle of sentences\n",
    "    text = re.sub(r\"(?<!\\n\\s)\\n(?!\\s\\n)\", \" \", text.strip())\n",
    "    # Remove multiple newlines\n",
    "    text = re.sub(r\"\\n\\s*\\n\", \" \", text)\n",
    "    return text"
   ]
  },
  {
   "cell_type": "code",
   "execution_count": 18,
   "id": "16b708c8",
   "metadata": {},
   "outputs": [],
   "source": [
    "for ticker, filing in latest_10x.items():\n",
    "    all_text = []\n",
    "    for section in TO_EXTRACT[filing.filing_type]:\n",
    "        text = extractor_api.get_section(filing.url, section, \"text\")\n",
    "        text = clean_text(text)\n",
    "        all_text.append(text)\n",
    "    texts = recursive_text_splitter.split_text(\" \".join(all_text))\n",
    "    embeddings = OpenAIEmbeddings()\n",
    "    docsearch = FAISS.from_texts(texts, embeddings)\n",
    "    docsearch.save_local(str(parent_pth.joinpath(f\"{ticker}.idx\")))\n",
    "    docsearch.index = None\n",
    "    with open(parent_pth.joinpath(f\"{ticker}.pkl\"), \"wb\") as f:\n",
    "        pickle.dump(docsearch, f, protocol=5)"
   ]
  },
  {
   "cell_type": "code",
   "execution_count": 25,
   "id": "8f800e37",
   "metadata": {},
   "outputs": [
    {
     "ename": "Exception",
     "evalue": "API error: 429 - {\"status\":429,\"error\":\"You send a lot of requests. We like that. But you exceeded the free query limit of 100 requests. Upgrade your account to get unlimited access. Visit sec-api.io for more.\"}",
     "output_type": "error",
     "traceback": [
      "\u001b[0;31m---------------------------------------------------------------------------\u001b[0m",
      "\u001b[0;31mException\u001b[0m                                 Traceback (most recent call last)",
      "Cell \u001b[0;32mIn[25], line 6\u001b[0m\n\u001b[1;32m      4\u001b[0m all_text \u001b[38;5;241m=\u001b[39m []\n\u001b[1;32m      5\u001b[0m \u001b[38;5;28;01mfor\u001b[39;00m section \u001b[38;5;129;01min\u001b[39;00m TO_EXTRACT[filing\u001b[38;5;241m.\u001b[39mfiling_type]:\n\u001b[0;32m----> 6\u001b[0m     text \u001b[38;5;241m=\u001b[39m \u001b[43mextractor_api\u001b[49m\u001b[38;5;241;43m.\u001b[39;49m\u001b[43mget_section\u001b[49m\u001b[43m(\u001b[49m\u001b[43mfiling\u001b[49m\u001b[38;5;241;43m.\u001b[39;49m\u001b[43murl\u001b[49m\u001b[43m,\u001b[49m\u001b[43m \u001b[49m\u001b[43msection\u001b[49m\u001b[43m,\u001b[49m\u001b[43m \u001b[49m\u001b[38;5;124;43m\"\u001b[39;49m\u001b[38;5;124;43mtext\u001b[39;49m\u001b[38;5;124;43m\"\u001b[39;49m\u001b[43m)\u001b[49m\n\u001b[1;32m      7\u001b[0m     text \u001b[38;5;241m=\u001b[39m clean_text(text)\n\u001b[1;32m      8\u001b[0m     all_text\u001b[38;5;241m.\u001b[39mappend(text)\n",
      "File \u001b[0;32m~/Library/Caches/pypoetry/virtualenvs/app-XXrmmFyg-py3.11/lib/python3.11/site-packages/sec_api/index.py:180\u001b[0m, in \u001b[0;36mExtractorApi.get_section\u001b[0;34m(self, filing_url, section, return_type)\u001b[0m\n\u001b[1;32m    178\u001b[0m         handle_api_error(response)\n\u001b[1;32m    179\u001b[0m \u001b[38;5;28;01melse\u001b[39;00m:\n\u001b[0;32m--> 180\u001b[0m     \u001b[43mhandle_api_error\u001b[49m\u001b[43m(\u001b[49m\u001b[43mresponse\u001b[49m\u001b[43m)\u001b[49m\n",
      "File \u001b[0;32m~/Library/Caches/pypoetry/virtualenvs/app-XXrmmFyg-py3.11/lib/python3.11/site-packages/sec_api/index.py:20\u001b[0m, in \u001b[0;36mhandle_api_error\u001b[0;34m(response)\u001b[0m\n\u001b[1;32m     19\u001b[0m \u001b[38;5;28;01mdef\u001b[39;00m \u001b[38;5;21mhandle_api_error\u001b[39m(response):\n\u001b[0;32m---> 20\u001b[0m     \u001b[38;5;28;01mraise\u001b[39;00m \u001b[38;5;167;01mException\u001b[39;00m(\u001b[38;5;124m\"\u001b[39m\u001b[38;5;124mAPI error: \u001b[39m\u001b[38;5;132;01m{}\u001b[39;00m\u001b[38;5;124m - \u001b[39m\u001b[38;5;132;01m{}\u001b[39;00m\u001b[38;5;124m\"\u001b[39m\u001b[38;5;241m.\u001b[39mformat(response\u001b[38;5;241m.\u001b[39mstatus_code, response\u001b[38;5;241m.\u001b[39mtext))\n",
      "\u001b[0;31mException\u001b[0m: API error: 429 - {\"status\":429,\"error\":\"You send a lot of requests. We like that. But you exceeded the free query limit of 100 requests. Upgrade your account to get unlimited access. Visit sec-api.io for more.\"}"
     ]
    }
   ],
   "source": [
    "# Hypothetical embeddings\n",
    "\n",
    "for ticker, filing in latest_10x.items():\n",
    "    all_text = []\n",
    "    for section in TO_EXTRACT[filing.filing_type]:\n",
    "        text = extractor_api.get_section(filing.url, section, \"text\")\n",
    "        text = clean_text(text)\n",
    "        all_text.append(text)\n",
    "    texts = recursive_text_splitter.split_text(\" \".join(all_text))\n",
    "    embeddings = OpenAIEmbeddings()\n",
    "    \n",
    "    hype_docsearch = FAISS.from_texts(texts, \\\n",
    "        HypotheticalDocumentEmbedder.from_llm(OpenAI(temperature=0), embeddings, \"web_search\"))\n",
    "    hype_docsearch.save_local(str(parent_pth.joinpath(f\"{ticker}_hype.idx\")))\n",
    "    hype_docsearch.index = None\n",
    "    with open(parent_pth.joinpath(f\"{ticker}_hype.pkl\"), \"wb\") as f:\n",
    "        pickle.dump(hype_docsearch, f, protocol=5)"
   ]
  },
  {
   "cell_type": "markdown",
   "id": "304caec6",
   "metadata": {},
   "source": [
    "# Load docsearch from pickle and test"
   ]
  },
  {
   "cell_type": "code",
   "execution_count": 26,
   "id": "15dd364a",
   "metadata": {},
   "outputs": [],
   "source": [
    "def load_docsearch(pth, fname):\n",
    "    with open(os.path.join(pth, f\"{fname}.pkl\"), \"rb\") as f:\n",
    "        docsearch = pickle.load(f)\n",
    "        docsearch.load_local(os.path.join(pth, f\"{fname}.idx\"))\n",
    "        return docsearch"
   ]
  },
  {
   "cell_type": "code",
   "execution_count": 27,
   "id": "d921a261",
   "metadata": {},
   "outputs": [],
   "source": [
    "meta_hype = load_docsearch(str(parent_pth), \"META\")"
   ]
  },
  {
   "cell_type": "code",
   "execution_count": 28,
   "id": "6d69dd74",
   "metadata": {},
   "outputs": [],
   "source": [
    "from langchain.chains.question_answering import load_qa_chain\n",
    "from langchain.llms import OpenAI"
   ]
  },
  {
   "cell_type": "code",
   "execution_count": 29,
   "id": "acc22340",
   "metadata": {},
   "outputs": [],
   "source": [
    "chain = load_qa_chain(OpenAI(temperature=0), chain_type=\"stuff\")\n",
    "\n",
    "def search_doc(q, docsearch, **kw_args):\n",
    "    docs = docsearch.similarity_search(q)\n",
    "    return chain({\"input_documents\": docs, \"question\": q}, **kw_args)"
   ]
  },
  {
   "cell_type": "code",
   "execution_count": 30,
   "id": "63238c8e",
   "metadata": {},
   "outputs": [
    {
     "data": {
      "text/plain": [
       "{'input_documents': [Document(page_content='it is not currently monetized at the same rate as our feed or Stories products. We also have seen fluctuations and declines in the size of our active user base in one or more markets from time to time. For example, in connection with the war in Ukraine, access to Facebook and Instagram was restricted in Russia and the services were then prohibited by the Russian government, which adversely affected user growth and engagement in 2022 . These trends adversely affected advertising revenue in 2022 , and we expect will continue to affect our advertising revenue in the foreseeable future.   T able of Contents   The COVID-19 pandemic has also impacted our business and results of operations, with a varied impact on user', lookup_str='', metadata={}, lookup_index=0),\n",
       "  Document(page_content=\"we believe will continue to have, an impact on our user growth and engagement and advertising revenue. In particular, we believe advertising budgets have been pressured by factors such as inflation, rising interest rates, and related market uncertainty, which has led to reduced marketer spending. In addition, competitive products and services have reduced some users' engagement with our products and services. In response to competitive pressures, we have introduced new features such as Reels and are investing in our artificial intelligence-powered discovery engine to recommend relevant unconnected content across our products. While Reels is growing in usage, it is not currently monetized at\", lookup_str='', metadata={}, lookup_index=0),\n",
       "  Document(page_content='n 18% year-over-year increase in ad impressions delivered across our Family of Apps.   Income from operations for 2022 was $28.94 billion, a decrease of $17.81 billion, or 38%, compared to 2021, mainly due to an increase in payroll and related expenses associated with a 20% increase in employee headcount particularly in engineering and other technical functions and higher operational expenses related to our data centers and technical infrastructure. Starting in the third quarter of 2022, we began a series of cost management initiatives including facilities consolidation, a layoff of approximately 11,000 employees, and a pivot in our data center strategy, which resulted in total restructuring', lookup_str='', metadata={}, lookup_index=0),\n",
       "  Document(page_content='additional information regarding restructuring charges.   T able of Contents   Family of Apps Metrics    Family daily active people (DAP) was 2.96 billion on average for December 2022, an increase of 5% year-over-year.    Family monthly active people (MAP) was 3.74 billion as of December 31, 2022, an increase of 4% year-over-year.    Facebook daily active users (DAUs) were 2.00 billion on average for December 2022, an increase of 4% year-over-year.    Facebook monthly active users (MAUs) were 2.96 billion as of December 31, 2022, an increase of 2% year-over-year.    Ad impressions delivered across our Family of Apps increased by 18% year-over-year in 2022 , and the average price per ad decreased by 16% year-over-year', lookup_str='', metadata={}, lookup_index=0)],\n",
       " 'question': 'How is Stories doing?',\n",
       " 'output_text': \" Stories is not currently monetized at the same rate as our feed, and we have seen fluctuations and declines in the size of our active user base in one or more markets from time to time. We believe advertising budgets have been pressured by factors such as inflation, rising interest rates, and related market uncertainty, which has led to reduced marketer spending. In addition, competitive products and services have reduced some users' engagement with our products and services.\"}"
      ]
     },
     "execution_count": 30,
     "metadata": {},
     "output_type": "execute_result"
    }
   ],
   "source": [
    "search_doc(\"How is Stories doing?\", meta_hype, return_only_outputs=False)"
   ]
  },
  {
   "cell_type": "code",
   "execution_count": 32,
   "id": "bc03fbcd",
   "metadata": {},
   "outputs": [
    {
     "data": {
      "text/plain": [
       "{'input_documents': [Document(page_content=\"to limit the ability of websites and application developers to collect and use these signals to target and measure advertising. For example, in 2021, Apple made certain changes to its products and data use policies in connection with changes to its iOS operating system that reduce our and other iOS developers' ability to target and measure advertising, which has negatively impacted, and we expect will continue to negatively impact, the size of the budgets marketers are willing to commit to us and other advertising platforms.   To mitigate these developments, we are working to evolve our advertising systems to improve the performance of our ad products. We are developing privacy enhancing technologies to\", lookup_str='', metadata={}, lookup_index=0),\n",
       "  Document(page_content='it is not currently monetized at the same rate as our feed or Stories products. We also have seen fluctuations and declines in the size of our active user base in one or more markets from time to time. For example, in connection with the war in Ukraine, access to Facebook and Instagram was restricted in Russia and the services were then prohibited by the Russian government, which adversely affected user growth and engagement in 2022 . These trends adversely affected advertising revenue in 2022 , and we expect will continue to affect our advertising revenue in the foreseeable future.   T able of Contents   The COVID-19 pandemic has also impacted our business and results of operations, with a varied impact on user', lookup_str='', metadata={}, lookup_index=0),\n",
       "  Document(page_content='ad decreased by 16% year-over-year in 2022 .   Developments in Advertising   Substantially all of our revenue is currently generated from advertising on Facebook and Instagram. We rely on targeting and measurement tools that incorporate data signals from user activity on websites and services that we do not control in order to deliver relevant and effective ads to our users. Our advertising revenue has been, and we expect will continue to be, adversely affected by reduced marketer spending as a result of limitations on our ad targeting and measurement tools arising from changes to the regulatory environment and third-party mobile operating systems and browsers.   In particular, legislative and', lookup_str='', metadata={}, lookup_index=0),\n",
       "  Document(page_content='on their other activities on our Family products.   Trends in the number of people in our community affect our revenue and financial results by influencing the number of ads we are able to show, the value of our ads to marketers, as well as our expenses and capital expenditures. Substantially all of our daily and monthly active people (as defined below) access our Family products on mobile devices.    Daily Active People (DAP). We define a daily active person as a registered and logged-in user of Facebook, Instagram, Messenger, and/or WhatsApp (collectively, our \"Family\" of products) who visited at least one of these Family products through a mobile device application or using a web or mobile browser on a given', lookup_str='', metadata={}, lookup_index=0)],\n",
       " 'question': \"Did Apple affect Facebook's business?\",\n",
       " 'output_text': \" Yes, Apple made certain changes to its products and data use policies in 2021 that reduced Facebook's and other iOS developers' ability to target and measure advertising, which has negatively impacted the size of the budgets marketers are willing to commit to Facebook and other advertising platforms.\"}"
      ]
     },
     "execution_count": 32,
     "metadata": {},
     "output_type": "execute_result"
    }
   ],
   "source": [
    "search_doc(\"Did Apple affect Facebook's business?\", meta_hype, return_only_outputs=False)"
   ]
  },
  {
   "cell_type": "code",
   "execution_count": 33,
   "id": "eeb8f6ae",
   "metadata": {},
   "outputs": [
    {
     "data": {
      "text/plain": [
       "{'input_documents': [Document(page_content='including developing virtual and augmented reality devices, software for social platforms, neural interfaces, and other foundational technologies for the metaverse. Our RL investments include expenses relating to headcount and technology development across these efforts. Many of our RL investments are directed toward long-term, cutting-edge research and development for products for the metaverse that are not on the market today and may only be fully realized in the next decade. Although it is inherently difficult to predict when and how the metaverse ecosystem will develop, we expect our RL segment to continue to operate at a loss for the foreseeable future, and our ability to support our', lookup_str='', metadata={}, lookup_index=0),\n",
       "  Document(page_content='play in the world.   We anticipate that investments in our data center capacity, servers, network infrastructure, and headcount will continue to drive expense growth in 2023, which will adversely affect our operating margin and profitability. The majority of our investments are directed toward developing our family of apps. In 2022 , 82% of our total costs and expenses were recognized in FoA and 18% were recognized in RL. Our FoA investments include expenses relating to headcount, data centers and technical infrastructure as part of our efforts to develop our apps and our advertising services. We are also making significant investments in our metaverse efforts, including developing virtual and', lookup_str='', metadata={}, lookup_index=0),\n",
       "  Document(page_content='investments in artificial intelligence and machine learning to improve our delivery, targeting, and measurement capabilities. We are also engaging with others across our industry to explore the possibility of new open standards for the private and secure processing of data for advertising purposes. We expect that some of these efforts will be long-term initiatives, and that the regulatory and platform developments described above will continue to adversely impact our advertising revenue for the foreseeable future.   Other Business and Macroeconomic Conditions   Other global and regional business, macroeconomic, and geopolitical conditions also have had, and we believe will continue to have, an', lookup_str='', metadata={}, lookup_index=0),\n",
       "  Document(page_content='and our ability to support our metaverse efforts is dependent on generating sufficient profits from other areas of our business. We expect this will be a complex, evolving, and long-term initiative. We are investing now because we believe this is the next chapter of the internet and will unlock monetization opportunities for businesses, developers, and creators, including around advertising, hardware, and digital goods.   T able of Contents   Trends in Our Family Metrics   The numbers for our key Family metrics, our DAP, MAP, and average revenue per person (ARPP), do not include users on our other products unless they would otherwise qualify as DAP or MAP, respectively, based on their other activities on our', lookup_str='', metadata={}, lookup_index=0)],\n",
       " 'question': 'What investments will Meta make for AI?',\n",
       " 'output_text': ' Meta will invest in artificial intelligence and machine learning to improve their delivery, targeting, and measurement capabilities.'}"
      ]
     },
     "execution_count": 33,
     "metadata": {},
     "output_type": "execute_result"
    }
   ],
   "source": [
    "search_doc(\"What investments will Meta make for AI?\", meta_hype, return_only_outputs=False)"
   ]
  },
  {
   "cell_type": "code",
   "execution_count": 34,
   "id": "836d5638",
   "metadata": {},
   "outputs": [
    {
     "data": {
      "text/plain": [
       "{'input_documents': [Document(page_content='with respect to key metrics used by management in operating our business.   Executive Overview of Full Year 2022 Results   Our mission is to give people the power to build community and bring the world closer together. In 2022, we continued to focus on our main revenue growth priorities: (i) helping marketers use our products to connect with consumers and (ii) making our ads more relevant and effective. We also continued to invest in both our family of apps and our metaverse efforts based on our company priorities.   Our financial results and key community metrics for 2022 are set forth below. Our total revenue for 2022 was $116.61 billion, a decrease of 1% compared to 2021, which reflects a $5.96 billion negative', lookup_str='', metadata={}, lookup_index=0),\n",
       "  Document(page_content=\"the exact impact that each trend had on our advertising revenue during the periods presented.   Investment Philosophy   In 2022 , we continued to invest based on the following company priorities: (i) continue making progress on the major social issues facing the internet and our company, including privacy, safety, and security; (ii) build new experiences that meaningfully improve people's lives today and set the stage for even bigger improvements in the future; (iii) keep building our business by supporting the millions of businesses that rely on our services to grow and create jobs; and (iv) communicate more transparently about what we're doing and the role our services play in the world.   We anticipate\", lookup_str='', metadata={}, lookup_index=0),\n",
       "  Document(page_content='n 18% year-over-year increase in ad impressions delivered across our Family of Apps.   Income from operations for 2022 was $28.94 billion, a decrease of $17.81 billion, or 38%, compared to 2021, mainly due to an increase in payroll and related expenses associated with a 20% increase in employee headcount particularly in engineering and other technical functions and higher operational expenses related to our data centers and technical infrastructure. Starting in the third quarter of 2022, we began a series of cost management initiatives including facilities consolidation, a layoff of approximately 11,000 employees, and a pivot in our data center strategy, which resulted in total restructuring', lookup_str='', metadata={}, lookup_index=0),\n",
       "  Document(page_content='play in the world.   We anticipate that investments in our data center capacity, servers, network infrastructure, and headcount will continue to drive expense growth in 2023, which will adversely affect our operating margin and profitability. The majority of our investments are directed toward developing our family of apps. In 2022 , 82% of our total costs and expenses were recognized in FoA and 18% were recognized in RL. Our FoA investments include expenses relating to headcount, data centers and technical infrastructure as part of our efforts to develop our apps and our advertising services. We are also making significant investments in our metaverse efforts, including developing virtual and', lookup_str='', metadata={}, lookup_index=0)],\n",
       " 'question': 'What will the company focus on this year?',\n",
       " 'output_text': \" The company will focus on continuing to make progress on the major social issues facing the internet and our company, including privacy, safety, and security; building new experiences that meaningfully improve people's lives today and set the stage for even bigger improvements in the future; keeping building our business by supporting the millions of businesses that rely on our services to grow and create jobs; and communicating more transparently about what we're doing and the role our services\"}"
      ]
     },
     "execution_count": 34,
     "metadata": {},
     "output_type": "execute_result"
    }
   ],
   "source": [
    "search_doc(\"What will the company focus on this year?\", meta_hype, return_only_outputs=False)"
   ]
  },
  {
   "cell_type": "code",
   "execution_count": 35,
   "id": "78b306b5",
   "metadata": {},
   "outputs": [
    {
     "data": {
      "text/plain": [
       "{'input_documents': [Document(page_content='Reality Labs   RL revenue in 2022 decreased $115 million, or 5%, compared to 2021. The decrease in RL revenue was driven by a decrease in the volume of Meta Quest sales.   Revenue Seasonality and Customer Concentration   Revenue is traditionally seasonally strong in the fourth quarter of each year due in part to seasonal holiday demand. We believe that this seasonality in both advertising revenue and RL consumer hardware sales affects our quarterly results, which generally reflect significant growth in revenue between the third and fourth quarters and a decline between the fourth and subsequent first quarters. For instance, our total revenue increased 16%, 16%, and 31% between the third and fourth quarters', lookup_str='', metadata={}, lookup_index=0),\n",
       "  Document(page_content='n 18% year-over-year increase in ad impressions delivered across our Family of Apps.   Income from operations for 2022 was $28.94 billion, a decrease of $17.81 billion, or 38%, compared to 2021, mainly due to an increase in payroll and related expenses associated with a 20% increase in employee headcount particularly in engineering and other technical functions and higher operational expenses related to our data centers and technical infrastructure. Starting in the third quarter of 2022, we began a series of cost management initiatives including facilities consolidation, a layoff of approximately 11,000 employees, and a pivot in our data center strategy, which resulted in total restructuring', lookup_str='', metadata={}, lookup_index=0),\n",
       "  Document(page_content='strategy to sublease, early terminate, or abandon several office buildings under operating leases, a layoff of approximately 11,000 of our employees across the FoA and RL segments, and a pivot towards a next generation data center design, including cancellation of multiple data center projects.   A summary of our restructuring charges for the year ended December 31, 2022 by major activity type is as follows (in millions) :   ##TABLE_START Facilities Consolidation Severance and Other Personnel Costs Data Center Assets Total Cost of revenue $ 154 $  $ 1,341 $ 1,495 Research and development 1,311 408  1,719 Marketing and sales 404 234  638 General and administrative 426 333  759 Total $ 2,295 $ 975 $ 1,341 $ 4,611', lookup_str='', metadata={}, lookup_index=0),\n",
       "  Document(page_content='ended December 31, 2022.    Cash, cash equivalents, and marketable securities were $40.74 billion as of December 31, 2022.    Long-term debt was $9.92 billion as of December 31, 2022.    Headcount was 86,482 as of December 31, 2022, an increase of 20% year-over-year. Our reported headcount includes a substantial majority of the approximately 11,000 employees impacted by the layoff we announced in November 2022, who will no longer be reflected in our headcount by the end of the first quarter of 2023.   Restructuring   In 2022, we initiated several measures to pursue greater efficiency and to realign our business and strategic priorities. This includes a facilities consolidation strategy to sublease, early', lookup_str='', metadata={}, lookup_index=0)],\n",
       " 'question': 'Did Meta have layoffs this year?',\n",
       " 'output_text': ' Yes, Meta had a layoff of approximately 11,000 employees in November 2022.'}"
      ]
     },
     "execution_count": 35,
     "metadata": {},
     "output_type": "execute_result"
    }
   ],
   "source": [
    "search_doc(\"Did Meta have layoffs this year?\", meta_hype, return_only_outputs=False)"
   ]
  },
  {
   "cell_type": "code",
   "execution_count": null,
   "id": "0092b7e9",
   "metadata": {},
   "outputs": [],
   "source": []
  },
  {
   "cell_type": "code",
   "execution_count": null,
   "id": "0f5f5a69",
   "metadata": {},
   "outputs": [],
   "source": []
  }
 ],
 "metadata": {
  "kernelspec": {
   "display_name": "Python 3 (ipykernel)",
   "language": "python",
   "name": "python3"
  },
  "language_info": {
   "codemirror_mode": {
    "name": "ipython",
    "version": 3
   },
   "file_extension": ".py",
   "mimetype": "text/x-python",
   "name": "python",
   "nbconvert_exporter": "python",
   "pygments_lexer": "ipython3",
   "version": "3.11.1"
  }
 },
 "nbformat": 4,
 "nbformat_minor": 5
}
